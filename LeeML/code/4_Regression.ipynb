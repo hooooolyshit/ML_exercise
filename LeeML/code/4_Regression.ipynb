{
  "nbformat": 4,
  "nbformat_minor": 0,
  "metadata": {
    "colab": {
      "name": "4-Regression.ipynb",
      "provenance": [],
      "collapsed_sections": [],
      "authorship_tag": "ABX9TyMBukQMxs72a08WiQdieyzS",
      "include_colab_link": true
    },
    "kernelspec": {
      "name": "python3",
      "display_name": "Python 3"
    },
    "language_info": {
      "name": "python"
    }
  },
  "cells": [
    {
      "cell_type": "markdown",
      "metadata": {
        "id": "view-in-github",
        "colab_type": "text"
      },
      "source": [
        "<a href=\"https://colab.research.google.com/github/hooooolyshit/ML_exercise/blob/main/LeeML/code/4_Regression.ipynb\" target=\"_parent\"><img src=\"https://colab.research.google.com/assets/colab-badge.svg\" alt=\"Open In Colab\"/></a>"
      ]
    },
    {
      "cell_type": "code",
      "execution_count": 1,
      "metadata": {
        "id": "szga1pJIT9e-"
      },
      "outputs": [],
      "source": [
        "import numpy as np\n",
        "import matplotlib.pyplot as plt\n",
        "from pylab import mpl\n",
        "\n",
        "# matplotlib没有中文字体，动态解决\n",
        "plt.rcParams['font.sans-serif'] = ['Simhei']  # 显示中文\n",
        "mpl.rcParams['axes.unicode_minus'] = False  # 解决保存图像是负号'-'显示为方块的问题"
      ]
    },
    {
      "cell_type": "code",
      "source": [
        "x_data = [338., 333., 328., 207., 226., 25., 179., 60., 208., 606.]\n",
        "y_data = [640., 633., 619., 393., 428., 27., 193., 66., 226., 1591.]\n",
        "x_d = np.asarray(x_data)\n",
        "y_d = np.asarray(y_data)"
      ],
      "metadata": {
        "id": "ULWx7AhlUN07"
      },
      "execution_count": 2,
      "outputs": []
    },
    {
      "cell_type": "code",
      "source": [
        "x = np.arange(-200, -100, 1)\n",
        "y = np.arange(-5, 5, 0.1)\n",
        "Z = np.zeros((len(x), len(y)))\n",
        "X, Y = np.meshgrid(x, y)"
      ],
      "metadata": {
        "id": "dFG_qMyuVLsM"
      },
      "execution_count": 3,
      "outputs": []
    },
    {
      "cell_type": "code",
      "source": [
        "# meshgrid 的用法\n",
        "# 相当于向两个方向扩展向量直到宽度为第二个向量的长度\n",
        "na, nb = (5, 3)\n",
        "a = np.linspace(1, 2, na)  \n",
        "b = np.linspace(1, 2, nb)  \n",
        "xa, xb = np.meshgrid(a, b)  \n",
        "xa, xb"
      ],
      "metadata": {
        "colab": {
          "base_uri": "https://localhost:8080/"
        },
        "id": "aL_Mi0EYYHhz",
        "outputId": "3537d6b9-8716-406e-9f96-656cbc0e37b0"
      },
      "execution_count": 8,
      "outputs": [
        {
          "output_type": "execute_result",
          "data": {
            "text/plain": [
              "(array([[1.  , 1.25, 1.5 , 1.75, 2.  ],\n",
              "        [1.  , 1.25, 1.5 , 1.75, 2.  ],\n",
              "        [1.  , 1.25, 1.5 , 1.75, 2.  ]]), array([[1. , 1. , 1. , 1. , 1. ],\n",
              "        [1.5, 1.5, 1.5, 1.5, 1.5],\n",
              "        [2. , 2. , 2. , 2. , 2. ]]))"
            ]
          },
          "metadata": {},
          "execution_count": 8
        }
      ]
    },
    {
      "cell_type": "code",
      "source": [
        "# loss\n",
        "for i in range(len(x)):\n",
        "    for j in range(len(y)):\n",
        "        b = x[i]\n",
        "        w = y[j]\n",
        "        Z[j][i] = 0  # meshgrid吐出结果：y为行，x为列\n",
        "        # w和b下的损失值，这里采用了均方误差\n",
        "        for n in range(len(x_data)):\n",
        "            Z[j][i] += (y_data[n] - b - w * x_data[n]) ** 2\n",
        "        Z[j][i] /= len(x_data)"
      ],
      "metadata": {
        "id": "G9XW9gfwVOHD"
      },
      "execution_count": 4,
      "outputs": []
    },
    {
      "cell_type": "code",
      "source": [
        "# linear regression\n",
        "#b = -120\n",
        "#w = -4\n",
        "b=-2\n",
        "w=0.01\n",
        "# 学习率\n",
        "lr = 0.000005\n",
        "# 迭代次数\n",
        "iteration = 1400000\n",
        "\n",
        "b_history = [b]\n",
        "w_history = [w]\n",
        "loss_history = []\n",
        "import time\n",
        "# -------------------------------\n",
        "start = time.time()\n",
        "for i in range(iteration):\n",
        "    m = float(len(x_d))\n",
        "    y_hat = w * x_d + b\n",
        "    # 损失\n",
        "    loss = np.dot(y_d - y_hat, y_d - y_hat) / m\n",
        "    # 梯度\n",
        "    grad_b = -2.0 * np.sum(y_d - y_hat) / m\n",
        "    grad_w = -2.0 * np.dot(y_d - y_hat, x_d) / m\n",
        "    # 更新\n",
        "    b -= lr * grad_b\n",
        "    w -= lr * grad_w\n",
        "    \n",
        "    b_history.append(b)\n",
        "    w_history.append(w)\n",
        "    loss_history.append(loss)\n",
        "    if i % 50000 == 0:\n",
        "        print(\"Step %i, w: %0.4f, b: %.4f, Loss: %.4f\" % (i, w, b, loss))\n",
        "end = time.time()\n",
        "print(\"大约需要时间：\",end-start)"
      ],
      "metadata": {
        "colab": {
          "base_uri": "https://localhost:8080/"
        },
        "id": "8bY4OfCkVnhw",
        "outputId": "98c906a1-cd89-4e18-91e1-d4fb888674e8"
      },
      "execution_count": 9,
      "outputs": [
        {
          "output_type": "stream",
          "name": "stdout",
          "text": [
            "Step 0, w: 1.8648, b: -1.9952, Loss: 413789.3821\n",
            "Step 50000, w: 2.2034, b: -26.2436, Loss: 17524.4173\n",
            "Step 100000, w: 2.2640, b: -47.3389, Loss: 15741.4804\n",
            "Step 150000, w: 2.3167, b: -65.6903, Loss: 14392.1781\n",
            "Step 200000, w: 2.3626, b: -81.6549, Loss: 13371.0444\n",
            "Step 250000, w: 2.4025, b: -95.5431, Loss: 12598.2644\n",
            "Step 300000, w: 2.4372, b: -107.6249, Loss: 12013.4350\n",
            "Step 350000, w: 2.4674, b: -118.1352, Loss: 11570.8441\n",
            "Step 400000, w: 2.4937, b: -127.2785, Loss: 11235.8973\n",
            "Step 450000, w: 2.5166, b: -135.2326, Loss: 10982.4142\n",
            "Step 500000, w: 2.5365, b: -142.1522, Loss: 10790.5816\n",
            "Step 550000, w: 2.5538, b: -148.1717, Loss: 10645.4053\n",
            "Step 600000, w: 2.5688, b: -153.4084, Loss: 10535.5378\n",
            "Step 650000, w: 2.5819, b: -157.9639, Loss: 10452.3916\n",
            "Step 700000, w: 2.5933, b: -161.9269, Loss: 10389.4677\n",
            "Step 750000, w: 2.6032, b: -165.3744, Loss: 10341.8478\n",
            "Step 800000, w: 2.6118, b: -168.3736, Loss: 10305.8097\n",
            "Step 850000, w: 2.6193, b: -170.9826, Loss: 10278.5365\n",
            "Step 900000, w: 2.6258, b: -173.2523, Loss: 10257.8965\n",
            "Step 950000, w: 2.6315, b: -175.2269, Loss: 10242.2765\n",
            "Step 1000000, w: 2.6364, b: -176.9445, Loss: 10230.4555\n",
            "Step 1050000, w: 2.6407, b: -178.4388, Loss: 10221.5095\n",
            "Step 1100000, w: 2.6445, b: -179.7387, Loss: 10214.7393\n",
            "Step 1150000, w: 2.6477, b: -180.8696, Loss: 10209.6157\n",
            "Step 1200000, w: 2.6505, b: -181.8533, Loss: 10205.7382\n",
            "Step 1250000, w: 2.6530, b: -182.7092, Loss: 10202.8038\n",
            "Step 1300000, w: 2.6551, b: -183.4537, Loss: 10200.5830\n",
            "Step 1350000, w: 2.6570, b: -184.1013, Loss: 10198.9024\n",
            "大约需要时间： 32.20533514022827\n"
          ]
        }
      ]
    },
    {
      "cell_type": "code",
      "source": [
        "# plot the figure\n",
        "plt.subplot(1, 2, 1)\n",
        "C = plt.contourf(x, y, Z, 50, alpha=0.5, cmap=plt.get_cmap('jet'))  # 填充等高线\n",
        "# plt.clabel(C, inline=True, fontsize=5)\n",
        "plt.plot([-188.4], [2.67], 'x', ms=12, mew=3, color=\"orange\")\n",
        "plt.plot(b_history, w_history, 'o-', ms=3, lw=1.5, color='black')\n",
        "plt.xlim(-200, -100)\n",
        "plt.ylim(-5, 5)\n",
        "plt.xlabel(r'$b$')\n",
        "plt.ylabel(r'$w$')\n",
        "plt.title(\"Linear Regression\")\n",
        "\n",
        "plt.subplot(1, 2, 2)\n",
        "loss = np.asarray(loss_history[2:iteration])\n",
        "plt.plot(np.arange(2, iteration), loss)\n",
        "plt.title(\"Loss Curve\")\n",
        "plt.xlabel('step')\n",
        "plt.ylabel('loss')\n",
        "plt.show()\n",
        "# 李宏毅老师课堂中的Demo要140万次才能收敛到最优，结果如下"
      ],
      "metadata": {
        "colab": {
          "base_uri": "https://localhost:8080/",
          "height": 297
        },
        "id": "TMmIkZg9V_dW",
        "outputId": "f6509d81-7e3a-42eb-bfcf-3fe03bf3f9a8"
      },
      "execution_count": 10,
      "outputs": [
        {
          "output_type": "display_data",
          "data": {
            "text/plain": [
              "<Figure size 432x288 with 2 Axes>"
            ],
            "image/png": "[encoded data removed]"
          },
          "metadata": {
            "needs_background": "light"
          }
        }
      ]
    }
  ]
}